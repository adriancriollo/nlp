{
 "cells": [
  {
   "cell_type": "markdown",
   "metadata": {},
   "source": [
    "Homework 5: Neural Language Models  (& 🎃 SpOoKy 👻 authors 🧟 data) - Task 2\n",
    "---"
   ]
  },
  {
   "cell_type": "markdown",
   "metadata": {},
   "source": [
    "Task 2: Training your own word embeddings (14 points)\n",
    "--------------------------------\n",
    "\n",
    "For this task, you'll use the `gensim` package to train your own embeddings for both words and characters. These will eventually act as inputs to your neural language model."
   ]
  },
  {
   "cell_type": "code",
   "execution_count": 35,
   "metadata": {},
   "outputs": [],
   "source": [
    "# import your libraries here\n",
    "\n",
    "# Remember to restart your kernel if you change the contents of this file!\n",
    "import neurallm_utils as nutils\n",
    "\n",
    "# for word embeddings\n",
    "from gensim.models import Word2Vec\n",
    "\n",
    "# your other imports here\n",
    "import pandas as pd\n",
    "import string"
   ]
  },
  {
   "cell_type": "code",
   "execution_count": 8,
   "metadata": {},
   "outputs": [],
   "source": [
    "# If running on colab, you'll need to mount your drive to access data files\n",
    "\n",
    "# from google.colab import drive\n",
    "# drive.mount('/content/drive')"
   ]
  },
  {
   "cell_type": "code",
   "execution_count": 9,
   "metadata": {},
   "outputs": [],
   "source": [
    "# constants you may find helpful. Edit as you would like.\n",
    "\n",
    "NGRAM = 3 # The ngram language model you want to train\n",
    "EMBEDDING_SAVE_FILE_WORD = \"spooky_embedding_word.txt\" # The file to save your word embeddings to\n",
    "EMBEDDING_SAVE_FILE_CHAR = \"spooky_embedding_char.txt\" # The file to save your word embeddings to\n",
    "TRAIN_FILE = 'spooky_author_train.csv' # The file to train your language model on\n",
    "\n",
    "# The dimensions of word embedding. \n",
    "# This variable will be used throughout the program\n",
    "# DO NOT WRITE \"50\" WHEN YOU ARE REFERRING TO THE EMBEDDING SIZE\n",
    "EMBEDDINGS_SIZE = 50"
   ]
  },
  {
   "cell_type": "markdown",
   "metadata": {},
   "source": [
    "Train embeddings on provided dataset\n",
    "---"
   ]
  },
  {
   "cell_type": "code",
   "execution_count": 11,
   "metadata": {},
   "outputs": [
    {
     "name": "stdout",
     "output_type": "stream",
     "text": [
      "[['<s>', 'this', 'is', 'the', 'first', 'sentence', 'for', 'word2vec', '</s>'], ['<s>', 'this', 'is', 'the', 'second', 'sentence', '</s>']]\n",
      "[['<s>', 't', 'h', 'i', 's', ' ', 'i', 's', ' ', 't', 'h', 'e', ' ', 'f', 'i', 'r', 's', 't', ' ', 's', 'e', 'n', 't', 'e', 'n', 'c', 'e', ' ', 'f', 'o', 'r', ' ', 'w', 'o', 'r', 'd', '2', 'v', 'e', 'c', '</s>'], ['<s>', 't', 'h', 'i', 's', ' ', 'i', 's', ' ', 't', 'h', 'e', ' ', 's', 'e', 'c', 'o', 'n', 'd', ' ', 's', 'e', 'n', 't', 'e', 'n', 'c', 'e', '</s>']]\n"
     ]
    }
   ],
   "source": [
    "# your code here\n",
    "# use the provided utility functions to read in the data\n",
    "\n",
    "\n",
    "data = [['this', 'is', 'the', 'first', 'sentence', 'for', 'word2vec'],\n",
    "\t\t\t['this', 'is', 'the', 'second', 'sentence'],\n",
    "\t\t\t['yet', 'another', 'sentence'],\n",
    "\t\t\t['one', 'more', 'sentence'],\n",
    "\t\t\t['and', 'the', 'final', 'sentence']]\n",
    "\n",
    "\n",
    "# read the data in both by character and by word\n",
    "sentences = [' '.join(sentence) for sentence in data]\n",
    "word_data = [nutils.tokenize_line(sentence, ngram=1, by_char=False) for sentence in sentences]\n",
    "char_data = [nutils.tokenize_line(sentence, ngram=1, by_char=True) for sentence in sentences]\n",
    "# print out the first two sentences in each format\n",
    "print(word_data[:2])\n",
    "print(char_data[:2])\n",
    "# make sure we can read the output easily, but you are welcome to leave tokens in their lists\n",
    "\n"
   ]
  },
  {
   "cell_type": "code",
   "execution_count": 56,
   "metadata": {},
   "outputs": [],
   "source": [
    "# 10 points\n",
    "# create your word embeddings\n",
    "# use the skip gram algorithm and a window size of 5\n",
    "# min_count should be 1\n",
    "# typically takes ~3 sec on our computer for character embeddings using skip-gram with window size 5\n",
    "# typically takes ~3 sec on our computer for word embeddings using skip-gram with window size 5 \n",
    "\n",
    "spooky_author_data = pd.read_csv(TRAIN_FILE)\n",
    "word_data_tokenized = spooky_author_data['text'].apply(lambda x: nutils.tokenize_line(nutils.preprocess_text(x), NGRAM, False))\n",
    "char_data_tokenized = spooky_author_data['text'].apply(lambda x: nutils.tokenize_line(nutils.preprocess_text(x), NGRAM, True))\n",
    "\n",
    "word_model_skipgram = Word2Vec(\n",
    "    sentences=word_data_tokenized,\n",
    "    vector_size=EMBEDDINGS_SIZE,\n",
    "    window=5,\n",
    "    min_count=1,\n",
    "    sg=1\n",
    ")\n",
    "\n",
    "char_model_skipgram = Word2Vec(\n",
    "    sentences=char_data_tokenized,\n",
    "    vector_size=EMBEDDINGS_SIZE,\n",
    "    window=5,\n",
    "    min_count=1,\n",
    "    sg=1\n",
    ")\n",
    "\n",
    "\n",
    "\n",
    "\n"
   ]
  },
  {
   "cell_type": "code",
   "execution_count": 57,
   "metadata": {},
   "outputs": [
    {
     "name": "stdout",
     "output_type": "stream",
     "text": [
      "Vocabulary size for character embedding is 53\n",
      "Vocabulary size for word embeddings is 25412\n"
     ]
    }
   ],
   "source": [
    "# 4 points\n",
    "# print out the vocabulary size for your embeddings for both your word\n",
    "# embeddings and your character embeddings\n",
    "# label which is which when you print them out\n",
    "\n",
    "print(\"Vocabulary size for character embedding is\", len(char_model_skipgram.wv.key_to_index))\n",
    "print(\"Vocabulary size for word embeddings is\", len(word_model_skipgram.wv.key_to_index))\n",
    "\n",
    "# Vocabulary size for character embeddings is 60\n",
    "# Vocabulary size for word embeddings is 25374"
   ]
  },
  {
   "cell_type": "code",
   "execution_count": 14,
   "metadata": {},
   "outputs": [],
   "source": [
    "# Save both sets of embeddings in txt format\n",
    "# use the save_word2vec_format method to accomplish this, with the flag binary=False\n",
    "# you will load your embeddings from files later in the assignment\n",
    "# and can do so whenever you want to not re-train your embeddings\n",
    "# look at these files to make sure that you understand their format\n",
    "\n",
    "word_model_skipgram.wv.save_word2vec_format(EMBEDDING_SAVE_FILE_WORD, binary=False)\n",
    "char_model_skipgram.wv.save_word2vec_format(EMBEDDING_SAVE_FILE_CHAR, binary=False)\n",
    "\n",
    "# Saving file in txt format. This will be used later in Sections 4 and 5\n",
    "# make it so that you don't have to re-train the embeddings each time"
   ]
  }
 ],
 "metadata": {
  "kernelspec": {
   "display_name": "Python 3 (ipykernel)",
   "language": "python",
   "name": "python3"
  },
  "language_info": {
   "codemirror_mode": {
    "name": "ipython",
    "version": 3
   },
   "file_extension": ".py",
   "mimetype": "text/x-python",
   "name": "python",
   "nbconvert_exporter": "python",
   "pygments_lexer": "ipython3",
   "version": "3.12.4"
  }
 },
 "nbformat": 4,
 "nbformat_minor": 4
}
