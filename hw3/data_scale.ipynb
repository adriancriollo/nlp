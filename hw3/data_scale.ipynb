{
 "cells": [
  {
   "cell_type": "markdown",
   "metadata": {
    "id": "mgcbfoWGCArp"
   },
   "source": [
    "Homework 1: Python, Strings, Data, Scale\n",
    "----\n",
    "\n",
    "Due date: September 11th, 2024 at **9:00 pm**\n",
    "\n",
    "Late due date (see syllabus for details): September 13, 2024 at **9:00 pm**\n",
    "\n",
    "Points: 42\n",
    "\n",
    "Files to submit:\n",
    "- `data_scale.ipynb`\n",
    "- `yourdatafilefortask3and4` (See task 3. This file will most likely be a `.txt` or `.csv`, but can be any)\n",
    "\n",
    "Goals:\n",
    "- ensure that your python environment is set up and running\n",
    "- learn/review python skills regarding `string`s, data structures, and file manipulation\n",
    "\n",
    "Complete in groups of: __one (individually)__\n",
    "\n",
    "Allowed python modules:\n",
    "- Note that all necessary modules have already been imported for you for this assignment. (you may import any standard python libraries, plotting libraries as you'd like)\n",
    "\n",
    "\n",
    "Instructions:\n",
    "- Complete outlined problems in this notebook.\n",
    "- When you have finished, __clear the kernel__ and run your notebook \"fresh\" from top to bottom. Ensure that there are __no errors__.\n",
    "    - If a problem asks for you to write code that does result in an error (as in, the answer to the problem is an error), leave the code in your notebook but commented out so that running from top to bottom does not result in any errors.\n",
    "- Double check that you have completed Task 0.\n",
    "- Submit your work on Gradescope.\n",
    "- Double check that your submission on Gradescope looks like you believe it should\n",
    "\n"
   ]
  },
  {
   "cell_type": "markdown",
   "metadata": {
    "id": "ZCfjQmcHCArt",
    "jp-MarkdownHeadingCollapsed": true
   },
   "source": [
    "Task 0: Name, References, Reflection (5 points)\n",
    "---\n",
    "\n",
    "TODO: complete this section\n",
    "\n",
    "Name: Adrian Criollo\n",
    "\n",
    "References\n",
    "---\n",
    "List the resources you consulted to complete this homework here. Write one sentence per resource about what it provided to you. If you consulted no references to complete your assignment, write a brief sentence stating that this is the case and why it was the case for you.\n",
    "\n",
    "(Example)\n",
    "- https://docs.python.org/3/tutorial/datastructures.html\n",
    "    - Read about the the basics and syntax for data structures in python.\n",
    "\n",
    "- https://www.w3schools.com/python/ref_string_split.asp\n",
    "    - Looked up the definition of split.\n",
    " \n",
    "- https://docs.python.org/3/library/collections.html#collections.Counter\n",
    "    - Looked at the defintion and sample usage of Counter.\n",
    "\n",
    "- https://matplotlib.org/stable/api/_as_gen/matplotlib.pyplot.plot.html\n",
    "    - Searched through documentation to learn how to use plt\n",
    " \n",
    "- https://www.geeksforgeeks.org/count-the-number-of-rows-and-columns-of-a-pandas-dataframe/\n",
    "    - Learned how to read rows in a df\n",
    "\n",
    "- https://pandas.pydata.org/docs/reference/api/pandas.DataFrame.to_numpy.html#pandas.DataFrame.to_numpy\n",
    "    - Looked through pandas documentation to figure out how to combine all cells into one string\n",
    " \n",
    "\n",
    "AI Collaboration\n",
    "---\n",
    "\n",
    "Please do not use large language models for this assignment. If you are using co-pilot, this is acceptable but *make sure* you test your code. For all future assignments, follow the AI Collaboration Policy, to be published during the second week of class.\n",
    "\n",
    "Reflection\n",
    "----\n",
    "Answer the following questions __after__ you complete this assignment (no more than 1 sentence per question required, this section is graded on completion):\n",
    "\n",
    "1. Does this work reflect your best effort? Yes, I believe this work reflects my best effort. \n",
    "2. What was/were the most challenging part(s) of the assignment? The most challenging part of this assignment was working with the csv file, specifically combining all the cells into one string. \n",
    "3. If you want feedback, what function(s) or problem(s) would you like feedback on and why? I would like feedback on task 2 specifically plotting. I feel like there is a more neat way to accomplish what I did.  \n",
    "\n"
   ]
  },
  {
   "cell_type": "markdown",
   "metadata": {
    "id": "HwkPcx4SCArv"
   },
   "source": [
    "Task 1: Python Warm-up (8 points)\n",
    "----\n",
    "\n",
    "We'll warm-up by either learning about or reviewing `string`s, `for` loops, `range()`, and `list`s.\n",
    "\n",
    "Links to relevant documentation:\n",
    "- [strings](https://docs.python.org/3/library/string.html)\n",
    "- [for loops](https://wiki.python.org/moin/ForLoop)\n",
    "- [lists](https://docs.python.org/3/tutorial/datastructures.html)"
   ]
  },
  {
   "cell_type": "code",
   "execution_count": 4,
   "metadata": {
    "id": "hAy792ONCArw"
   },
   "outputs": [
    {
     "name": "stdout",
     "output_type": "stream",
     "text": [
      "e\n",
      "x\n",
      "a\n",
      "m\n",
      "p\n",
      "l\n",
      "e\n",
      "S\n",
      "t\n",
      "r\n",
      "i\n",
      "n\n",
      "g\n"
     ]
    }
   ],
   "source": [
    "# define a string variable, then\n",
    "# using a for loop, iterate through the letters of a string\n",
    "example = \"exampleString\"\n",
    "for i in example:\n",
    "    print(i)"
   ]
  },
  {
   "cell_type": "code",
   "execution_count": 5,
   "metadata": {
    "id": "Dy85tJNACArz"
   },
   "outputs": [
    {
     "name": "stdout",
     "output_type": "stream",
     "text": [
      "cat\n",
      "dog\n",
      "bear\n",
      "fish\n"
     ]
    }
   ],
   "source": [
    "# define a list variable, then\n",
    "# using a for loop, iterate through the contents of a list\n",
    "example = [\"cat\", \"dog\", \"bear\", \"fish\"]\n",
    "for i in example:\n",
    "    print(i)"
   ]
  },
  {
   "cell_type": "code",
   "execution_count": 6,
   "metadata": {
    "id": "1xPMxSiXCArz"
   },
   "outputs": [
    {
     "name": "stdout",
     "output_type": "stream",
     "text": [
      "t\n",
      "i\n",
      " \n",
      "s\n",
      "a\n",
      " \n",
      "x\n",
      "m\n",
      "l\n",
      " \n",
      "t\n",
      "i\n",
      "g\n"
     ]
    }
   ],
   "source": [
    "# define a string variable, then\n",
    "# using a for loop and the range() function, print out every other token\n",
    "# (you may assume tokens are separated by spaces) in the string\n",
    "example = \"this is an example string\"\n",
    "example.split()\n",
    "for i in range(0, len(example), 2):\n",
    "    print(example[i])"
   ]
  },
  {
   "cell_type": "code",
   "execution_count": 7,
   "metadata": {
    "id": "Ywu7E92pCAr1"
   },
   "outputs": [
    {
     "name": "stdout",
     "output_type": "stream",
     "text": [
      "['hello', 'world']\n",
      "['hello', 'world']\n",
      "['hello', 'world']\n",
      "['hello', '', '', '', '', '', 'world']\n"
     ]
    }
   ],
   "source": [
    "# demonstrate the difference(s) between calling python's\n",
    "# str.split() function like str.split(' ') and str.split()\n",
    "\n",
    "#The difference is that by default split() splits by any whitespace while split(\" \") is splitting by a single space.\n",
    "singleWhitespace = \"hello world\"\n",
    "multiWhitespace = \"hello      world\"\n",
    "print(singleWhitespace.split())\n",
    "print(multiWhitespace.split())\n",
    "print(singleWhitespace.split(\" \"))\n",
    "print(multiWhitespace.split(\" \"))"
   ]
  },
  {
   "cell_type": "markdown",
   "metadata": {
    "id": "bYRienJhCAr2"
   },
   "source": [
    "Task 2: Timing Python Functions (15 points)\n",
    "----\n",
    "\n",
    "In this section, we'll explore efficiency and python data structures.\n",
    "You'll work on increasing your familiarity with `list`s, `dict`s, and [`Counter`](https://docs.python.org/3/library/collections.html#collections.Counter)s.\n",
    "\n",
    "Notice that in our python function headers, we include [type hints](https://docs.python.org/3/library/typing.html)."
   ]
  },
  {
   "cell_type": "code",
   "execution_count": 9,
   "metadata": {
    "id": "Nsn1FCtgCAr2"
   },
   "outputs": [],
   "source": [
    "# for timing\n",
    "import time\n",
    "\n",
    "# for our fancier data structure\n",
    "from collections import Counter\n",
    "\n",
    "# for type hinting\n",
    "from typing import Callable\n",
    "\n",
    "# for graphing\n",
    "import matplotlib.pyplot as plt\n",
    "\n",
    "# for random number generation\n",
    "import random"
   ]
  },
  {
   "cell_type": "code",
   "execution_count": 10,
   "metadata": {
    "id": "T1DtrHk0CAr3"
   },
   "outputs": [
    {
     "name": "stdout",
     "output_type": "stream",
     "text": [
      "That took: 0.0 seconds!\n"
     ]
    }
   ],
   "source": [
    "# provided\n",
    "def timer(fun: Callable, tokens: list) -> float:\n",
    "    \"\"\"\n",
    "    measure (in seconds) the time that it takes to run a\n",
    "    function that operates on a list of strings (tokens)\n",
    "\n",
    "    Args:\n",
    "    fun: Callable\n",
    "    tokens: list\n",
    "\n",
    "    return:\n",
    "    float (seconds)\n",
    "    \"\"\"\n",
    "    start = time.time()\n",
    "    fun(tokens)\n",
    "    end = time.time()\n",
    "    return end - start\n",
    "\n",
    "# call like\n",
    "# len is the funtion that is being timed\n",
    "print(\"That took:\", timer(len, [\"this\", \"is\", \"a\", \"test\"]), \"seconds!\")"
   ]
  },
  {
   "cell_type": "code",
   "execution_count": 11,
   "metadata": {
    "id": "-i2hRcp7CAr4"
   },
   "outputs": [],
   "source": [
    "# TODO: implement the following functions (function signatures are provided for you)\n",
    "\n",
    "def count_list(tokens: list) -> dict:\n",
    "    \"\"\"\n",
    "    Count the number of occurrences of each token in a list of tokens.\n",
    "    Use the list.count() method.\n",
    "\n",
    "    Args:\n",
    "    tokens: list of items (often tokens)\n",
    "\n",
    "    return:\n",
    "    dict (mapping from token to count)\n",
    "    \"\"\"\n",
    "    countDict = {}\n",
    "    for i in tokens:\n",
    "        if i in countDict:\n",
    "            continue\n",
    "        countDict[i] = tokens.count(i)\n",
    "    return countDict\n",
    "\n",
    "def count_dict(tokens: list) -> dict:\n",
    "    \"\"\"\n",
    "    Count the number of occurrences of each token in a list of tokens.\n",
    "    Do not use the list.count() method. Do not use a Counter.\n",
    "    If you would like to use any method/function other than len, it must be\n",
    "    okay'd with the teaching staff.\n",
    "\n",
    "    Args:\n",
    "    tokens: list of items (often tokens)\n",
    "\n",
    "    return:\n",
    "    dict (mapping from token to count)\n",
    "    \"\"\"\n",
    "    countDict = {}\n",
    "    for i in tokens:\n",
    "        if i in countDict:\n",
    "            countDict[i] += 1\n",
    "        else:\n",
    "            countDict[i] = 1\n",
    "    return countDict\n",
    "\n",
    "def count_counter(tokens: list) -> Counter:\n",
    "    \"\"\"\n",
    "    Count the number of occurrences of each token in a list of tokens.\n",
    "    Use a Counter.\n",
    "    Do not use the list.count() method or any other list/dict functions/methods.\n",
    "\n",
    "    Args:\n",
    "    tokens: list of items (often tokens)\n",
    "\n",
    "    return:\n",
    "    Counter (mapping from token to count)\n",
    "    \"\"\"\n",
    "    return Counter(tokens)"
   ]
  },
  {
   "cell_type": "code",
   "execution_count": 12,
   "metadata": {
    "id": "2TKhkjYKCAr6"
   },
   "outputs": [
    {
     "name": "stdout",
     "output_type": "stream",
     "text": [
      "{1: 4, 2: 2, 3: 1, 4: 5}\n",
      "{1: 4, 2: 2, 3: 1, 4: 5}\n",
      "Counter({4: 5, 1: 4, 2: 2, 3: 1})\n"
     ]
    }
   ],
   "source": [
    "# TODO: verify that your count_* functions are correct and consistent with one another\n",
    "exampleList = [1,1,1,1,2,2,3,4,4,4,4,4]\n",
    "print(count_list(exampleList))\n",
    "print(count_dict(exampleList))\n",
    "print(count_counter(exampleList))\n",
    "\n",
    "# Make sure to test both if the list does not have duplicates and if it does"
   ]
  },
  {
   "cell_type": "code",
   "execution_count": 13,
   "metadata": {
    "id": "IDZtei62CAr7"
   },
   "outputs": [
    {
     "data": {
      "image/png": "[encoded data removed]",
      "text/plain": [
       "<Figure size 640x480 with 1 Axes>"
      ]
     },
     "metadata": {},
     "output_type": "display_data"
    }
   ],
   "source": [
    "# TODO: create a graph with three lines, one for each of the three count_* functions\n",
    "# x-axis should be the number of items in the list given to the function (go up to at least 500)\n",
    "# y-axis should be the time taken to run the function\n",
    "# the graph should have a legend indicating which line is which (use plt.legend() to make this happen)\n",
    "\n",
    "# you'll need to generate one (or more) list(s) of items to be counted.\n",
    "# we recommend using the random module to generate random integers\n",
    "\n",
    "import matplotlib.pyplot as plt\n",
    "import random\n",
    "\n",
    "dataSet1 = [random.randint(0, 10) for i in range(10)]\n",
    "dataSet2 = [random.randint(0, 10) for i in range(100)]\n",
    "dataSet3 = [random.randint(0, 10) for i in range(500)]\n",
    "dataSet4 = [random.randint(0, 10) for i in range(1000)]\n",
    "dataSet5 = [random.randint(0, 10) for i in range(10000)]\n",
    "\n",
    "\n",
    "timeSet_list = [timer(count_list, dataSet1), timer(count_list, dataSet2), timer(count_list, dataSet3), timer(count_list, dataSet4), timer(count_list, dataSet5)]\n",
    "timeSet_dict = [timer(count_dict, dataSet1), timer(count_dict, dataSet2), timer(count_dict, dataSet3), timer(count_dict, dataSet4), timer(count_dict, dataSet5)]\n",
    "timeSet_counter = [timer(count_counter, dataSet1), timer(count_counter, dataSet2), timer(count_counter, dataSet3), timer(count_counter, dataSet4), timer(count_counter, dataSet5)]\n",
    "\n",
    "numItems = [len(dataSet1), len(dataSet2), len(dataSet3), len(dataSet4), len(dataSet5)]\n",
    "plt.plot(numItems, timeSet_list, label='count_list')\n",
    "plt.plot(numItems, timeSet_dict, label='count_dict')\n",
    "plt.plot(numItems, timeSet_counter, label='count_counter')\n",
    "\n",
    "plt.legend()\n",
    "plt.xlabel(\"Size of List\")\n",
    "plt.ylabel(\"Time in seconds\")\n",
    "plt.title(\"Time taken to count tokens in list\")\n",
    "plt.show()\n",
    "\n"
   ]
  },
  {
   "cell_type": "markdown",
   "metadata": {
    "id": "AIQK8PyACAr7"
   },
   "source": [
    "Task 3: Real World Data (8 points)\n",
    "----\n",
    "\n",
    "In this section, you'll find some real world text data *of interest to you* and run some analysis on this data. The data that you choose can include labels, but if it does, do not include those labels in your counts of tokens, etc.\n",
    "\n",
    "\n",
    "Size requirements:\n",
    "- your file must contain a minimum of 10,000 tokens (as measured by at least *one* of your tokenization schemes).\n",
    "\n",
    "Here are some places to start:\n",
    "1. NLP Datasets: https://github.com/niderhoff/nlp-datasets\n",
    "2. ACL Anthology: https://aclanthology.org/\n",
    "3. Kaggle: https://www.kaggle.com/\n",
    "\n",
    "You can also use real-world data from any other source, as long as it meets the token requirement.\n",
    "\n",
    "Key vocabulary:\n",
    "\n",
    "__token__: The unit that we will operate on when processing text. Normally corresponds roughly to \"words\". We will focus on tokens during Lecture 2."
   ]
  },
  {
   "cell_type": "code",
   "execution_count": 15,
   "metadata": {
    "id": "a__CGKFiCAr8"
   },
   "outputs": [],
   "source": [
    "# TODO\n",
    "# the file should be in the same folder as this notebook because when you\n",
    "# submit this notebook, you will also submit the file and the backend of the\n",
    "# system expects them to be in the same directory\n",
    "FILE = \"training_files/berp-training.txt\""
   ]
  },
  {
   "cell_type": "code",
   "execution_count": 16,
   "metadata": {
    "id": "-nDScBCrCAr8"
   },
   "outputs": [
    {
     "name": "stdout",
     "output_type": "stream",
     "text": [
      "     my mother is coming to visit and i'd like to take her to dinner\n",
      "0                                             new query             \n",
      "1        now i'm interested in some middle eastern food             \n",
      "2                               oh i have to breakfast              \n",
      "3     oh i increase the walking distance i can go fi...             \n",
      "4                  oh i would like to have french food              \n",
      "...                                                 ...             \n",
      "6749                       um medium priced restaurants             \n",
      "6750                               what about metropole             \n",
      "6751                what do you know about siam cuisine             \n",
      "6752                     what is the closest restaurant             \n",
      "6753            what they're serving in uh siam cuisine             \n",
      "\n",
      "[6754 rows x 1 columns]\n"
     ]
    }
   ],
   "source": [
    "# read the contents of your file in, however you'd like\n",
    "import pandas as pd\n",
    "\n",
    "df = pd.read_csv(FILE, header=1)\n",
    "\n",
    "print(df)"
   ]
  },
  {
   "cell_type": "code",
   "execution_count": 17,
   "metadata": {
    "id": "xGN2S9cyCAr9"
   },
   "outputs": [
    {
     "name": "stdout",
     "output_type": "stream",
     "text": [
      "Lines:  6754\n"
     ]
    }
   ],
   "source": [
    "# how many lines are in your file?\n",
    "rows = len(df.axes[0])\n",
    "print(\"Lines: \", rows)"
   ]
  },
  {
   "cell_type": "code",
   "execution_count": 18,
   "metadata": {
    "id": "nqrCUNYLCAr9"
   },
   "outputs": [
    {
     "name": "stdout",
     "output_type": "stream",
     "text": [
      "1397\n"
     ]
    }
   ],
   "source": [
    "# tokenize your data using the str.split() function. How many tokens are there?\n",
    "\n",
    "combinedData = ' '.join(df.astype(str).to_numpy().flatten())\n",
    "tokens = combinedData.split()\n",
    "totalTokens = count_counter(tokens)\n",
    "print(len(totalTokens))"
   ]
  },
  {
   "cell_type": "markdown",
   "metadata": {
    "id": "U7d4F-qwCAr9"
   },
   "source": [
    "Task 4: Data Write-Up (6 points)\n",
    "---\n",
    "\n",
    "Every time you use a data set in an NLP application (or in any software application), you should be able to answer a set of questions about that data. Answer these now. Default to no more than 1 sentence per question needed. If more explanation is necessary, do give it.\n"
   ]
  },
  {
   "cell_type": "markdown",
   "metadata": {
    "id": "4Ykug43JCAr-"
   },
   "source": [
    "1. Where did you get the data from? The dataset I chose was was Kaggle.com \n",
    "2. How was the data collected (where did the people acquiring the data get it from and how)? I believe they got the data from scrapping IMDb.\n",
    "3. How large is the dataset? (copy # of lines and # of tokens from above)? 1689 lines long and 12991 tokens. \n",
    "5. Is your dataset a subset of a larger dataset or the entirety of a dataset? (e.g. the first half of reviews from the dataset.... vs. all reviews from ...) The dataset if the entirety of its database.\n",
    "6. What is your data? (i.e. newswire, tweets, books, blogs, etc) My data is general information about all Marvel and DC movies. \n",
    "7. Who produced the data? (who were the authors of the text? Your answer might be a specific person or a particular group of people) The authors of this data would be IMBd. "
   ]
  }
 ],
 "metadata": {
  "colab": {
   "provenance": []
  },
  "kernelspec": {
   "display_name": "Python 3 (ipykernel)",
   "language": "python",
   "name": "python3"
  },
  "language_info": {
   "codemirror_mode": {
    "name": "ipython",
    "version": 3
   },
   "file_extension": ".py",
   "mimetype": "text/x-python",
   "name": "python",
   "nbconvert_exporter": "python",
   "pygments_lexer": "ipython3",
   "version": "3.12.4"
  }
 },
 "nbformat": 4,
 "nbformat_minor": 4
}
