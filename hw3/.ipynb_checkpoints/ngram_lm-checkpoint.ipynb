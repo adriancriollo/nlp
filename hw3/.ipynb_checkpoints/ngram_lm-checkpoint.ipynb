{
 "cells": [
  {
   "cell_type": "markdown",
   "metadata": {
    "jp-MarkdownHeadingCollapsed": true
   },
   "source": [
    "Homework 3: n-gram LM\n",
    "----\n",
    "\n",
    "Due date: October 4th, 2024\n",
    "\n",
    "Points: 45\n",
    "\n",
    "Goals:\n",
    "- understand the difficulties of counting and probablities in NLP applications\n",
    "- work with real world data to build a functioning language model\n",
    "- stress test your model (to some extent)\n",
    "\n",
    "Complete in groups of: __one (individually)__\n",
    "\n",
    "Allowed python modules:\n",
    "- `numpy`, `matplotlib`, and all built-in python libraries (e.g. `math` and `string`)\n",
    "- do not use `nltk` or `pandas`\n",
    "\n",
    "Instructions:\n",
    "- Complete outlined problems in this notebook. \n",
    "- When you have finished, __clear the kernel__ and __run__ your notebook \"fresh\" from top to bottom. Ensure that there are __no errors__. \n",
    "    - If a problem asks for you to write code that does result in an error (as in, the answer to the problem is an error), leave the code in your notebook but commented out so that running from top to bottom does not result in any errors.\n",
    "- Double check that you have completed Task 0.\n",
    "- Submit your work on Gradescope.\n",
    "- Double check that your submission on Gradescope looks like you believe it should __and__ that all partners are included (for partner work).\n",
    "\n",
    "<b>Helpful Links</b>\n",
    "1. Object Oriented Programming in Python : https://www.geeksforgeeks.org/python-oops-concepts/\n",
    "2. GradeScope FAQ : https://northeastern.instructure.com/courses/188094/pages/gradescope-faq-slash-debugging?module_item_id=10969242"
   ]
  },
  {
   "cell_type": "markdown",
   "metadata": {},
   "source": [
    "Task 0: Name, References, Reflection (5 points)\n",
    "---\n",
    "\n",
    "Name: Adrian Criollo\n",
    "\n",
    "References\n",
    "---\n",
    "List the resources you consulted to complete this homework here. Write one sentence per resource about what it provided to you. If you consulted no references to complete your assignment, write a brief sentence stating that this is the case and why it was the case for you.\n",
    "\n",
    "(Example)\n",
    "- https://docs.python.org/3/tutorial/datastructures.html\n",
    "    - Read about the the basics and syntax for data structures in python.\n",
    "\n",
    "AI Collaboration\n",
    "---\n",
    "Following the *AI Collaboration Policy* in the syllabus, please cite any LLMs that you used here and briefly describe what you used them for. Additionally, provide comments in-line identifying the specific sections that you used LLMs on, if you used them towards the generation of any of your answers.\n",
    "\n",
    "Reflection\n",
    "----\n",
    "Answer the following questions __after__ you complete this assignment (no more than 1 sentence per question required, this section is graded on completion):\n",
    "\n",
<<<<<<< HEAD
    "1. Does this work reflect your best effort?\n",
    "2. What was/were the most challenging part(s) of the assignment?\n",
    "3. If you want feedback, what function(s) or problem(s) would you like feedback on and why?"
=======
    "1. Does this work reflect your best effort? __Yes, this reflects my best effort.__\n",
    "2. What was/were the most challenging part(s) of the assignment? __The part that was most challenging was training my own data.__\n",
    "3. If you want feedback, what function(s) or problem(s) would you like feedback on and why? __I would like feedback on my model.__"
>>>>>>> a1b15e4 (adding hw3 and lab 2)
   ]
  },
  {
   "cell_type": "markdown",
   "metadata": {},
   "source": [
    "Task 1: Berp Data Write-Up (5 points)\n",
    "---\n",
    "\n",
    "Every time you use a data set in an NLP application (or in any software application), you should be able to answer a set of questions about that data. Answer these now. Default to no more than 1 sentence per question needed. If more explanation is necessary, do give it."
   ]
  },
  {
   "cell_type": "markdown",
   "metadata": {},
   "source": [
    "This is about the __berp__ data set.\n",
    "\n",
    "1. Where did you get the data from? https://www1.icsi.berkeley.edu/Speech/berp.html\n",
    "2. How was the data collected (where did the people acquiring the data get it from and how)? The data was collected from random people using a microphone to grab an audio recording then turning it into a transcript. \n",
    "3. How large is the dataset? (# lines, # tokens) There are 6754 lines and 1397 tokens. I used functions from HW 1 to get this information. \n",
    "4. What is your data? (i.e. newswire, tweets, books, blogs, etc) The data is conversations about restaurant recommendations. \n",
    "5. Who produced the data? (who were the authors of the text? Your answer might be a specific person or a particular group of people) The authors were random people looking for a place to eat. "
   ]
  },
  {
   "cell_type": "markdown",
   "metadata": {},
   "source": [
    "Task 2: Implement an n-gram Language Model (30 points)\n",
    "----\n",
    "\n",
    "Implement the `LanguageModel` class as outlined in the provided `lm_starter.py` file. Do not change function signatures (the unit tests that we provide and in the autograder will break).\n",
    "\n",
    "Your language model:\n",
    "- *must* work for both the unigram and bigram cases (BONUS section (see end)): 5 points are allocated to an experiment involving larger values of `n`)\n",
    "    - hint: try to implement the bigram case as a generalized \"n greater than 1\" case\n",
    "- should be *token agnostic* (this means that if we give the model text tokenized as single characters, it will function as a character language model and if we give the model text tokenized as \"words\" (or \"traditionally\"), then it will function as a language model with those tokens)\n",
    "- will use Laplace smoothing\n",
    "- will replace all tokens that occur only once with `<UNK>` at train time\n",
    "    - do not add `<UNK>` to your vocabulary if no tokens in the training data occur only once!\n",
    "\n",
    "We have provided:\n",
    "- a function to read in files\n",
    "- some functions to change a list of strings into tokens\n",
    "- the skeleton of the `LanguageModel` class\n",
    "\n",
    "You need to implement:\n",
    "- all functions marked\n",
    "\n",
    "You may implement:\n",
    "- additional functions/methods as helpful to you\n",
    "\n",
    "As a guideline, including comments, and some debugging code that can be run with `verbose` parameters.\n",
    "Points breakdown marked in code below."
   ]
  },
  {
   "cell_type": "code",
<<<<<<< HEAD
   "execution_count": null,
=======
   "execution_count": 6,
>>>>>>> a1b15e4 (adding hw3 and lab 2)
   "metadata": {},
   "outputs": [],
   "source": [
    "# rename your lm_starter.py file to lm_model.py and put in the same directory as this file\n",
    "import lm_model as lm\n",
    "import numpy as np\n",
    "import matplotlib.pyplot as plt"
   ]
  },
  {
   "cell_type": "code",
<<<<<<< HEAD
   "execution_count": null,
   "metadata": {},
   "outputs": [],
=======
   "execution_count": 7,
   "metadata": {},
   "outputs": [
    {
     "name": "stdout",
     "output_type": "stream",
     "text": [
      "[['</s>'], ['i']]\n",
      "[['<s>', 'i', 'am', 'ham', 'i', 'am', '</s>'], ['<s>', 'i', 'am', '</s>']]\n"
     ]
    }
   ],
>>>>>>> a1b15e4 (adding hw3 and lab 2)
   "source": [
    "# test the language model (unit tests)\n",
    "import test_minitrainingprovided as test\n",
    "\n",
    "# passing all these tests is a good indication that your model\n",
    "# is correct. They are *not a guarantee*, so make sure to look\n",
    "# at the tests and the cases that they cover. (we'll be testing\n",
    "# your model against all of the testing data in addition).\n",
    "\n",
    "# autograder points in gradescope are assigned SIXTY points\n",
    "# this is essentially 60 points for correctly implementing your\n",
    "# underlying model\n",
    "# there are an additional 10 points manually graded for the correctness\n",
    "# parts of your sentence generation\n",
    "\n",
    "# make sure all training files are in a \"training_files\" directory \n",
    "# that is in the same directory as this notebook\n",
    "\n",
    "unittest = test.TestMiniTraining()\n",
    "unittest.test_createunigrammodellaplace()\n",
    "unittest.test_createbigrammodellaplace()\n",
    "unittest.test_unigramlaplace()\n",
    "unittest.test_unigramunknownslaplace()\n",
    "unittest.test_bigramlaplace()\n",
    "unittest.test_bigramunknownslaplace()\n",
    "# produces output\n",
    "unittest.test_generateunigramconcludes()\n",
    "# produces output\n",
    "unittest.test_generatebigramconcludes()\n",
    "\n",
    "unittest.test_onlyunknownsgenerationandscoring()"
   ]
  },
  {
   "cell_type": "code",
<<<<<<< HEAD
   "execution_count": null,
   "metadata": {},
   "outputs": [],
=======
   "execution_count": 8,
   "metadata": {},
   "outputs": [
    {
     "name": "stdout",
     "output_type": "stream",
     "text": [
      "<s> i'd like to be whether it's a restaurant to eat today </s>\n",
      "<s> i'd pay less than ten minutes </s>\n",
      "<s> do they have a distance of the bay area </s>\n",
      "<s> it should be expensive i would like to spend a little money is la tour eiffel </s>\n",
      "<s> i would like to eat um italian or a cheap dinner </s>\n",
      "<s> i want to go out to twenty dollars </s>\n",
      "<s> oh it expensive </s>\n",
      "<s> about caffe giovanni </s>\n",
      "<s> uh which restaurants </s>\n",
      "<s> let's start over i want a meal </s>\n"
     ]
    }
   ],
>>>>>>> a1b15e4 (adding hw3 and lab 2)
   "source": [
    "# 10 points\n",
    "\n",
    "# instantiate a bigram language model, train it, and generate ten sentences\n",
    "# make sure your output is nicely formatted!\n",
<<<<<<< HEAD
    "ngram = 2\n",
    "training_file_path = \"training_files/berp-training.txt\"\n",
    "# optional parameter tells the tokenize function how to tokenize\n",
    "by_char = False\n",
    "data = lm.read_file(training_file_path)\n",
    "tokens = lm.tokenize(data, ngram, by_char=by_char)\n",
    "\n",
    "# YOUR CODE HERE\n"
=======
    "from lm_model import LanguageModel\n",
    "ngram = 2\n",
    "training_file_path = \"training_files/berp-training.txt\"\n",
    "data = lm.read_file(training_file_path)\n",
    "tokens = lm.tokenize(data, ngram, by_char=False)\n",
    "\n",
    "bigramModel = LanguageModel(n_gram=ngram)\n",
    "bigramModel.train(tokens)\n",
    "\n",
    "for i in range(10):\n",
    "    sentence = bigramModel.generate_sentence()\n",
    "    print(f\"{' '.join(sentence)}\")\n"
>>>>>>> a1b15e4 (adding hw3 and lab 2)
   ]
  },
  {
   "cell_type": "code",
<<<<<<< HEAD
   "execution_count": null,
   "metadata": {},
   "outputs": [],
=======
   "execution_count": 9,
   "metadata": {},
   "outputs": [
    {
     "name": "stdout",
     "output_type": "stream",
     "text": [
      "Mean Score: 4.9620823627262653e-05\n",
      "Standard Deviation: 0.000285298086084196\n"
     ]
    }
   ],
>>>>>>> a1b15e4 (adding hw3 and lab 2)
   "source": [
    "# 5 points\n",
    "\n",
    "# evaluate your bigram model on the test data\n",
    "# score each line in the test data individually, then calculate the average score\n",
    "# you need not re-train your model\n",
    "test_path = \"testing_files/berp-test.txt\"\n",
    "test_data = lm.read_file(test_path)\n",
    "\n",
    "scores = []\n",
<<<<<<< HEAD
    "\n",
    "# YOUR CODE HERE\n",
=======
    "for line in test_data:\n",
    "    tokens = lm.tokenize([line], ngram, by_char=False)\n",
    "    sentenceScore = bigramModel.score(tokens)\n",
    "    scores.append(sentenceScore)\n",
    "\n",
    "mean_score = np.mean(scores)\n",
    "std_deviation = np.std(scores)\n",
    "\n",
    "print(f\"Mean Score: {mean_score}\")\n",
    "print(f\"Standard Deviation: {std_deviation}\")\n",
>>>>>>> a1b15e4 (adding hw3 and lab 2)
    "\n",
    "\n",
    "\n",
    "# Print out the mean score and standard deviation\n",
    "# for words-as-tokens, these values should be\n",
    "# ~4.9 * 10^-5 and 0.000285\n"
   ]
  },
  {
   "cell_type": "code",
<<<<<<< HEAD
   "execution_count": null,
   "metadata": {},
   "outputs": [],
=======
   "execution_count": 10,
   "metadata": {},
   "outputs": [
    {
     "name": "stdout",
     "output_type": "stream",
     "text": [
      "<s> See full summary » Tess devises a path to <UNK> is an explosion, and other animals, from his search for <UNK> dangerous man who looks for battling <UNK> Lex Luthor is abducted </s>\n",
      "<s> </s>\n",
      "<s> <UNK> <UNK> </s>\n"
     ]
    }
   ],
>>>>>>> a1b15e4 (adding hw3 and lab 2)
   "source": [
    "# 15 points total\n",
    "\n",
    "# see if you can train your model on the data you found for your first homework (5 points)\n",
    "\n",
    "\n",
    "# what is the maximum value of n <= 10 that you can train a model *in your programming environment* in a reasonable amount of time? (less than 3 - 5 minutes)\n",
<<<<<<< HEAD
    "\n",
    "\n",
    "# generate three sentences with this model (10 points)\n"
=======
    "#ANSWER: I was only able to get my model to generate a sentence with n = 2. I think this is due to my data. \n",
    "\n",
    "# generate three sentences with this model (10 points)\n",
    "import pandas as pd\n",
    "FILE = \"testing_files/marvel.csv\"\n",
    "df = pd.read_csv(FILE, header=1)\n",
    "descriptions = df.iloc[:, 8].dropna().astype(str).tolist()\n",
    "combinedData = ' '.join(descriptions)\n",
    "sentences = combinedData.split('.')\n",
    "tokens = []\n",
    "for sentence in sentences:\n",
    "    tokens += ['<s>'] + sentence.strip().split() + ['</s>']\n",
    "\n",
    "n = 2\n",
    "model = LanguageModel(n_gram=n)\n",
    "model.train(tokens)\n",
    "for i in range(3):\n",
    "    sentence = model.generate_sentence()\n",
    "    print(f\"{' '.join(sentence)}\")\n",
    "\n"
>>>>>>> a1b15e4 (adding hw3 and lab 2)
   ]
  },
  {
   "cell_type": "markdown",
   "metadata": {},
   "source": [
    "BONUS\n",
    "----\n",
    "Implement the corresponding function and evaluate the perplexity of your model on the first 20 lines in the test data for values of `n` from 1 to 3. Perplexity should be individually calculated for each line."
   ]
  },
  {
   "cell_type": "code",
<<<<<<< HEAD
   "execution_count": null,
   "metadata": {},
   "outputs": [],
   "source": [
    "test_path = \"testing_files/berp-test.txt\"\n",
    "test_data = lm.read_file(test_path)\n",
=======
   "execution_count": 12,
   "metadata": {},
   "outputs": [
    {
     "name": "stdout",
     "output_type": "stream",
     "text": [
      "********\n",
      "Ngram model: 1\n",
      "Line 1 Perplexity: 8.496633269506296\n",
      "Line 2 Perplexity: 23.697123395178902\n",
      "Line 3 Perplexity: 9.74280162120117\n",
      "Line 4 Perplexity: 8.140880130995795\n",
      "Line 5 Perplexity: 19.897842315653346\n",
      "Line 6 Perplexity: 16.02116801280969\n",
      "Line 7 Perplexity: 9.131333842597897\n",
      "Line 8 Perplexity: 18.00792827610795\n",
      "Line 9 Perplexity: 13.684558400899228\n",
      "Line 10 Perplexity: 6.057500801871303\n",
      "Line 11 Perplexity: 5.334920398785314\n",
      "Line 12 Perplexity: 9.131333842597897\n",
      "Line 13 Perplexity: 11.420438185587617\n",
      "Line 14 Perplexity: 5.334920398785314\n",
      "Line 15 Perplexity: 11.587582173568368\n",
      "Line 16 Perplexity: 10.49906824183275\n",
      "Line 17 Perplexity: 14.939081617841513\n",
      "Line 18 Perplexity: 9.770483921894096\n",
      "Line 19 Perplexity: 34.1998527917072\n",
      "Line 20 Perplexity: 9.088087103794749\n",
      "********\n",
      "Ngram model: 2\n",
      "Line 1 Perplexity: 5.463882965114546\n",
      "Line 2 Perplexity: 7.373032206632756\n",
      "Line 3 Perplexity: 6.162334249502511\n",
      "Line 4 Perplexity: 6.038389963408873\n",
      "Line 5 Perplexity: 9.361011489916374\n",
      "Line 6 Perplexity: 8.42784361101054\n",
      "Line 7 Perplexity: 6.699909278809829\n",
      "Line 8 Perplexity: 10.25722205641654\n",
      "Line 9 Perplexity: 7.955932702800822\n",
      "Line 10 Perplexity: 3.1008258228167427\n",
      "Line 11 Perplexity: 3.281439584729107\n",
      "Line 12 Perplexity: 5.139257216593199\n",
      "Line 13 Perplexity: 7.6662703095763005\n",
      "Line 14 Perplexity: 3.281439584729107\n",
      "Line 15 Perplexity: 6.705465807518576\n",
      "Line 16 Perplexity: 5.776066984197052\n",
      "Line 17 Perplexity: 6.854124001832624\n",
      "Line 18 Perplexity: 6.00109280840208\n",
      "Line 19 Perplexity: 9.708654082101086\n",
      "Line 20 Perplexity: 9.10076258024415\n",
      "********\n",
      "Ngram model: 3\n",
      "Line 1 Perplexity: 4.942437961720044\n",
      "Line 2 Perplexity: 6.011282874691653\n",
      "Line 3 Perplexity: 7.03192608485086\n",
      "Line 4 Perplexity: 6.097761439274564\n",
      "Line 5 Perplexity: 7.1724698303059125\n",
      "Line 6 Perplexity: 7.647123322143841\n",
      "Line 7 Perplexity: 6.082243609326118\n",
      "Line 8 Perplexity: 9.041475365781611\n",
      "Line 9 Perplexity: 7.717089760706323\n",
      "Line 10 Perplexity: 3.0591230355897356\n",
      "Line 11 Perplexity: 2.9937959676161263\n",
      "Line 12 Perplexity: 4.967046804347629\n",
      "Line 13 Perplexity: 5.980182828374998\n",
      "Line 14 Perplexity: 2.9937959676161263\n",
      "Line 15 Perplexity: 5.386687981305447\n",
      "Line 16 Perplexity: 4.431046417123924\n",
      "Line 17 Perplexity: 5.302480433317349\n",
      "Line 18 Perplexity: 4.51792832193022\n",
      "Line 19 Perplexity: 8.36507014362287\n",
      "Line 20 Perplexity: 6.5889901501583115\n"
     ]
    }
   ],
   "source": [
    "test_path = \"testing_files/berp-test.txt\"\n",
    "test_data = lm.read_file(test_path)\n",
    "first_20 = test_data[:20]\n",
    "\n",
>>>>>>> a1b15e4 (adding hw3 and lab 2)
    "\n",
    "for ngram in range(1, 4):\n",
    "    print(\"********\")\n",
    "    print(\"Ngram model:\", ngram)\n",
<<<<<<< HEAD
    "    # YOUR CODE HERE\n",
    "\n"
=======
    "    model = LanguageModel(n_gram=ngram)\n",
    "    tokens = []\n",
    "    for line in first_20:\n",
    "        tokens += lm.tokenize_line(line, ngram, by_char=False)\n",
    "    model.train(tokens)\n",
    "    for index, line in enumerate(first_20):\n",
    "        tokenized_line = lm.tokenize_line(line, ngram, by_char=False)\n",
    "        perplexity_score = model.perplexity(tokenized_line)\n",
    "        print(f\"Line {index + 1} Perplexity: {perplexity_score}\")\n"
>>>>>>> a1b15e4 (adding hw3 and lab 2)
   ]
  },
  {
   "cell_type": "markdown",
   "metadata": {},
   "source": [
<<<<<<< HEAD
    "1. What are the common attributes of the test sentences that cause very high perplexity? __YOUR ANSWER HERE__"
=======
    "1. What are the common attributes of the test sentences that cause very high perplexity? __The sentences with higher perplexity are either long or have more uncommon words.__"
>>>>>>> a1b15e4 (adding hw3 and lab 2)
   ]
  },
  {
   "cell_type": "markdown",
   "metadata": {},
   "source": [
    "5 points in this assignment are reserved for overall style (both for writing and for code submitted). All work submitted should be clear, easily interpretable, and checked for spelling, etc. (Re-read what you write and make sure it makes sense). Course staff are always happy to give grammatical help (but we won't pre-grade the content of your answers)."
   ]
  },
  {
   "cell_type": "markdown",
   "metadata": {},
   "source": []
  }
 ],
 "metadata": {
  "kernelspec": {
   "display_name": "Python 3 (ipykernel)",
   "language": "python",
   "name": "python3"
  },
  "language_info": {
   "codemirror_mode": {
    "name": "ipython",
    "version": 3
   },
   "file_extension": ".py",
   "mimetype": "text/x-python",
   "name": "python",
   "nbconvert_exporter": "python",
   "pygments_lexer": "ipython3",
   "version": "3.12.4"
  }
 },
 "nbformat": 4,
 "nbformat_minor": 4
}
